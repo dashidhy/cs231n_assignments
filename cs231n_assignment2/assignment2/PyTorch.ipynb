{
 "cells": [
  {
   "cell_type": "markdown",
   "metadata": {},
   "source": [
    "# Training a ConvNet PyTorch\n",
    "\n",
    "In this notebook, you'll learn how to use the powerful PyTorch framework to specify a conv net architecture and train it on the CIFAR-10 dataset."
   ]
  },
  {
   "cell_type": "code",
   "execution_count": 1,
   "metadata": {
    "collapsed": false
   },
   "outputs": [],
   "source": [
    "import torch\n",
    "import torch.nn as nn\n",
    "import torch.optim as optim\n",
    "from torch.autograd import Variable\n",
    "from torch.utils.data import DataLoader\n",
    "from torch.utils.data import sampler\n",
    "\n",
    "import torchvision.datasets as dset\n",
    "import torchvision.transforms as T\n",
    "\n",
    "import numpy as np\n",
    "\n",
    "import timeit"
   ]
  },
  {
   "cell_type": "markdown",
   "metadata": {},
   "source": [
    "## What's this PyTorch business?\n",
    "\n",
    "You've written a lot of code in this assignment to provide a whole host of neural network functionality. Dropout, Batch Norm, and 2D convolutions are some of the workhorses of deep learning in computer vision. You've also worked hard to make your code efficient and vectorized.\n",
    "\n",
    "For the last part of this assignment, though, we're going to leave behind your beautiful codebase and instead migrate to one of two popular deep learning frameworks: in this instance, PyTorch (or TensorFlow, if you switch over to that notebook). \n",
    "\n",
    "Why?\n",
    "\n",
    "* Our code will now run on GPUs! Much faster training. When using a framework like PyTorch or TensorFlow you can harness the power of the GPU for your own custom neural network architectures without having to write CUDA code directly (which is beyond the scope of this class).\n",
    "* We want you to be ready to use one of these frameworks for your project so you can experiment more efficiently than if you were writing every feature you want to use by hand. \n",
    "* We want you to stand on the shoulders of giants! TensorFlow and PyTorch are both excellent frameworks that will make your lives a lot easier, and now that you understand their guts, you are free to use them :) \n",
    "* We want you to be exposed to the sort of deep learning code you might run into in academia or industry. "
   ]
  },
  {
   "cell_type": "markdown",
   "metadata": {},
   "source": [
    "## How will I learn PyTorch?\n",
    "\n",
    "If you've used Torch before, but are new to PyTorch, this tutorial might be of use: http://pytorch.org/tutorials/beginner/former_torchies_tutorial.html\n",
    "\n",
    "Otherwise, this notebook will walk you through much of what you need to do to train models in Torch. See the end of the notebook for some links to helpful tutorials if you want to learn more or need further clarification on topics that aren't fully explained here."
   ]
  },
  {
   "cell_type": "markdown",
   "metadata": {},
   "source": [
    "## Load Datasets\n",
    "\n",
    "We load the CIFAR-10 dataset. This might take a couple minutes the first time you do it, but the files should stay cached after that."
   ]
  },
  {
   "cell_type": "code",
   "execution_count": 2,
   "metadata": {
    "collapsed": false
   },
   "outputs": [
    {
     "name": "stdout",
     "output_type": "stream",
     "text": [
      "Files already downloaded and verified\n",
      "Files already downloaded and verified\n",
      "Files already downloaded and verified\n"
     ]
    }
   ],
   "source": [
    "class ChunkSampler(sampler.Sampler):\n",
    "    \"\"\"Samples elements sequentially from some offset. \n",
    "    Arguments:\n",
    "        num_samples: # of desired datapoints\n",
    "        start: offset where we should start selecting from\n",
    "    \"\"\"\n",
    "    def __init__(self, num_samples, start = 0):\n",
    "        self.num_samples = num_samples\n",
    "        self.start = start\n",
    "\n",
    "    def __iter__(self):\n",
    "        return iter(range(self.start, self.start + self.num_samples))\n",
    "\n",
    "    def __len__(self):\n",
    "        return self.num_samples\n",
    "\n",
    "NUM_TRAIN = 49000\n",
    "NUM_VAL = 1000\n",
    "\n",
    "cifar10_train = dset.CIFAR10('./cs231n/datasets', train=True, download=True,\n",
    "                           transform=T.ToTensor())\n",
    "loader_train = DataLoader(cifar10_train, batch_size=64, sampler=ChunkSampler(NUM_TRAIN, 0))\n",
    "\n",
    "cifar10_val = dset.CIFAR10('./cs231n/datasets', train=True, download=True,\n",
    "                           transform=T.ToTensor())\n",
    "loader_val = DataLoader(cifar10_val, batch_size=64, sampler=ChunkSampler(NUM_VAL, NUM_TRAIN))\n",
    "\n",
    "cifar10_test = dset.CIFAR10('./cs231n/datasets', train=False, download=True,\n",
    "                          transform=T.ToTensor())\n",
    "loader_test = DataLoader(cifar10_test, batch_size=64)\n"
   ]
  },
  {
   "cell_type": "markdown",
   "metadata": {},
   "source": [
    "For now, we're going to use a CPU-friendly datatype. Later, we'll switch to a datatype that will move all our computations to the GPU and measure the speedup."
   ]
  },
  {
   "cell_type": "code",
   "execution_count": 3,
   "metadata": {
    "collapsed": true
   },
   "outputs": [],
   "source": [
    "dtype = torch.FloatTensor # the CPU datatype\n",
    "\n",
    "# Constant to control how frequently we print train loss\n",
    "print_every = 100\n",
    "\n",
    "# This is a little utility that we'll use to reset the model\n",
    "# if we want to re-initialize all our parameters\n",
    "def reset(m):\n",
    "    if hasattr(m, 'reset_parameters'):\n",
    "        m.reset_parameters()"
   ]
  },
  {
   "cell_type": "markdown",
   "metadata": {},
   "source": [
    "## Example Model\n",
    "\n",
    "### Some assorted tidbits\n",
    "\n",
    "Let's start by looking at a simple model. First, note that PyTorch operates on Tensors, which are n-dimensional arrays functionally analogous to numpy's ndarrays, with the additional feature that they can be used for computations on GPUs.\n",
    "\n",
    "We'll provide you with a Flatten function, which we explain here. Remember that our image data (and more relevantly, our intermediate feature maps) are initially N x C x H x W, where:\n",
    "* N is the number of datapoints\n",
    "* C is the number of channels\n",
    "* H is the height of the intermediate feature map in pixels\n",
    "* W is the height of the intermediate feature map in pixels\n",
    "\n",
    "This is the right way to represent the data when we are doing something like a 2D convolution, that needs spatial understanding of where the intermediate features are relative to each other. When we input  data into fully connected affine layers, however, we want each datapoint to be represented by a single vector -- it's no longer useful to segregate the different channels, rows, and columns of the data. So, we use a \"Flatten\" operation to collapse the C x H x W values per representation into a single long vector. The Flatten function below first reads in the N, C, H, and W values from a given batch of data, and then returns a \"view\" of that data. \"View\" is analogous to numpy's \"reshape\" method: it reshapes x's dimensions to be N x ??, where ?? is allowed to be anything (in this case, it will be C x H x W, but we don't need to specify that explicitly). "
   ]
  },
  {
   "cell_type": "code",
   "execution_count": 4,
   "metadata": {
    "collapsed": true
   },
   "outputs": [],
   "source": [
    "class Flatten(nn.Module):\n",
    "    def forward(self, x):\n",
    "        N, C, H, W = x.size() # read in N, C, H, W\n",
    "        return x.view(N, -1)  # \"flatten\" the C * H * W values into a single vector per image"
   ]
  },
  {
   "cell_type": "markdown",
   "metadata": {},
   "source": [
    "### The example model itself\n",
    "\n",
    "The first step to training your own model is defining its architecture.\n",
    "\n",
    "Here's an example of a convolutional neural network defined in PyTorch -- try to understand what each line is doing, remembering that each layer is composed upon the previous layer. We haven't trained anything yet - that'll come next - for now, we want you to understand how everything gets set up.  nn.Sequential is a container which applies each layer\n",
    "one after the other.\n",
    "\n",
    "In that example, you see 2D convolutional layers (Conv2d), ReLU activations, and fully-connected layers (Linear). You also see the Cross-Entropy loss function, and the Adam optimizer being used. \n",
    "\n",
    "Make sure you understand why the parameters of the Linear layer are 5408 and 10.\n"
   ]
  },
  {
   "cell_type": "code",
   "execution_count": 5,
   "metadata": {
    "collapsed": false
   },
   "outputs": [],
   "source": [
    "# Here's where we define the architecture of the model... \n",
    "simple_model = nn.Sequential(\n",
    "                nn.Conv2d(3, 32, kernel_size=7, stride=2),\n",
    "                nn.ReLU(inplace=True),\n",
    "                Flatten(), # see above for explanation\n",
    "                nn.Linear(5408, 10), # affine layer\n",
    "              )\n",
    "\n",
    "# Set the type of all data in this model to be FloatTensor \n",
    "simple_model.type(dtype)\n",
    "\n",
    "loss_fn = nn.CrossEntropyLoss().type(dtype)\n",
    "optimizer = optim.Adam(simple_model.parameters(), lr=1e-2) # lr sets the learning rate of the optimizer"
   ]
  },
  {
   "cell_type": "markdown",
   "metadata": {},
   "source": [
    "PyTorch supports many other layer types, loss functions, and optimizers - you will experiment with these next. Here's the official API documentation for these (if any of the parameters used above were unclear, this resource will also be helpful). One note: what we call in the class \"spatial batch norm\" is called \"BatchNorm2D\" in PyTorch.\n",
    "\n",
    "* Layers: http://pytorch.org/docs/nn.html\n",
    "* Activations: http://pytorch.org/docs/nn.html#non-linear-activations\n",
    "* Loss functions: http://pytorch.org/docs/nn.html#loss-functions\n",
    "* Optimizers: http://pytorch.org/docs/optim.html#algorithms"
   ]
  },
  {
   "cell_type": "markdown",
   "metadata": {},
   "source": [
    "## Training a specific model\n",
    "\n",
    "In this section, we're going to specify a model for you to construct. The goal here isn't to get good performance (that'll be next), but instead to get comfortable with understanding the PyTorch documentation and configuring your own model. \n",
    "\n",
    "Using the code provided above as guidance, and using the following PyTorch documentation, specify a model with the following architecture:\n",
    "\n",
    "* 7x7 Convolutional Layer with 32 filters and stride of 1\n",
    "* ReLU Activation Layer\n",
    "* Spatial Batch Normalization Layer\n",
    "* 2x2 Max Pooling layer with a stride of 2\n",
    "* Affine layer with 1024 output units\n",
    "* ReLU Activation Layer\n",
    "* Affine layer from 1024 input units to 10 outputs\n",
    "\n",
    "And finally, set up a **cross-entropy** loss function and the **RMSprop** learning rule."
   ]
  },
  {
   "cell_type": "code",
   "execution_count": 6,
   "metadata": {
    "collapsed": false
   },
   "outputs": [],
   "source": [
    "input_size = 32\n",
    "input_channel = 3\n",
    "num_filter = 32\n",
    "pooling_size = 2\n",
    "kernel_size = 7\n",
    "fc1 = 1024\n",
    "num_classes = 10\n",
    "\n",
    "fixed_model_base = nn.Sequential(\n",
    "                    nn.Conv2d(input_channel, num_filter, kernel_size=kernel_size),\n",
    "                    nn.ReLU(inplace=True),\n",
    "                    nn.BatchNorm2d(num_filter),\n",
    "                    nn.MaxPool2d(pooling_size),\n",
    "                    Flatten(),\n",
    "                    nn.Linear(int(num_filter*((input_size-kernel_size+1)/pooling_size)**2), fc1),\n",
    "                    nn.ReLU(inplace=True),\n",
    "                    nn.Linear(fc1, num_classes)\n",
    "            )\n",
    "\n",
    "fixed_model = fixed_model_base.type(dtype)"
   ]
  },
  {
   "cell_type": "markdown",
   "metadata": {},
   "source": [
    "To make sure you're doing the right thing, use the following tool to check the dimensionality of your output (it should be 64 x 10, since our batches have size 64 and the output of the final affine layer should be 10, corresponding to our 10 classes):"
   ]
  },
  {
   "cell_type": "code",
   "execution_count": 7,
   "metadata": {
    "collapsed": false
   },
   "outputs": [
    {
     "data": {
      "text/plain": [
       "True"
      ]
     },
     "execution_count": 7,
     "metadata": {},
     "output_type": "execute_result"
    }
   ],
   "source": [
    "## Now we're going to feed a random batch into the model you defined and make sure the output is the right size\n",
    "x = torch.randn(64, 3, 32, 32).type(dtype)\n",
    "x_var = Variable(x.type(dtype)) # Construct a PyTorch Variable out of your input data\n",
    "ans = fixed_model(x_var)        # Feed it through the model! \n",
    "\n",
    "# Check to make sure what comes out of your model\n",
    "# is the right dimensionality... this should be True\n",
    "# if you've done everything correctly\n",
    "np.array_equal(np.array(ans.size()), np.array([64, 10]))       "
   ]
  },
  {
   "cell_type": "markdown",
   "metadata": {},
   "source": [
    "### GPU!\n",
    "\n",
    "Now, we're going to switch the dtype of the model and our data to the GPU-friendly tensors, and see what happens... everything is the same, except we are casting our model and input tensors as this new dtype instead of the old one.\n",
    "\n",
    "If this returns false, or otherwise fails in a not-graceful way (i.e., with some error message), you may not have an NVIDIA GPU available on your machine. If you're running locally, we recommend you switch to Google Cloud and follow the instructions to set up a GPU there. If you're already on Google Cloud, something is wrong -- make sure you followed the instructions on how to request and use a GPU on your instance. If you did, post on Piazza or come to Office Hours so we can help you debug."
   ]
  },
  {
   "cell_type": "code",
   "execution_count": 8,
   "metadata": {
    "collapsed": false
   },
   "outputs": [
    {
     "data": {
      "text/plain": [
       "True"
      ]
     },
     "execution_count": 8,
     "metadata": {},
     "output_type": "execute_result"
    }
   ],
   "source": [
    "# Verify that CUDA is properly configured and you have a GPU available\n",
    "torch.cuda.is_available()"
   ]
  },
  {
   "cell_type": "code",
   "execution_count": 9,
   "metadata": {
    "collapsed": false
   },
   "outputs": [
    {
     "data": {
      "text/plain": [
       "True"
      ]
     },
     "execution_count": 9,
     "metadata": {},
     "output_type": "execute_result"
    }
   ],
   "source": [
    "import copy\n",
    "gpu_dtype = torch.cuda.FloatTensor\n",
    "\n",
    "fixed_model_gpu = copy.deepcopy(fixed_model_base).type(gpu_dtype)\n",
    "\n",
    "x_gpu = torch.randn(64, 3, 32, 32).type(gpu_dtype)\n",
    "x_var_gpu = Variable(x.type(gpu_dtype)) # Construct a PyTorch Variable out of your input data\n",
    "ans = fixed_model_gpu(x_var_gpu)        # Feed it through the model! \n",
    "\n",
    "# Check to make sure what comes out of your model\n",
    "# is the right dimensionality... this should be True\n",
    "# if you've done everything correctly\n",
    "np.array_equal(np.array(ans.size()), np.array([64, 10]))"
   ]
  },
  {
   "cell_type": "markdown",
   "metadata": {},
   "source": [
    "Run the following cell to evaluate the performance of the forward pass running on the CPU:"
   ]
  },
  {
   "cell_type": "code",
   "execution_count": 10,
   "metadata": {
    "collapsed": false
   },
   "outputs": [
    {
     "name": "stdout",
     "output_type": "stream",
     "text": [
      "100 loops, best of 3: 18.8 ms per loop\n"
     ]
    }
   ],
   "source": [
    "%%timeit \n",
    "ans = fixed_model(x_var)"
   ]
  },
  {
   "cell_type": "markdown",
   "metadata": {},
   "source": [
    "... and now the GPU:"
   ]
  },
  {
   "cell_type": "code",
   "execution_count": 11,
   "metadata": {
    "collapsed": false
   },
   "outputs": [
    {
     "name": "stdout",
     "output_type": "stream",
     "text": [
      "1000 loops, best of 3: 1.74 ms per loop\n"
     ]
    }
   ],
   "source": [
    "%%timeit \n",
    "torch.cuda.synchronize() # Make sure there are no pending GPU computations\n",
    "ans = fixed_model_gpu(x_var_gpu)        # Feed it through the model! \n",
    "torch.cuda.synchronize() # Make sure there are no pending GPU computations"
   ]
  },
  {
   "cell_type": "markdown",
   "metadata": {},
   "source": [
    "You should observe that even a simple forward pass like this is significantly faster on the GPU. So for the rest of the assignment (and when you go train your models in assignment 3 and your project!), you should use the GPU datatype for your model and your tensors: as a reminder that is *torch.cuda.FloatTensor* (in our notebook here as *gpu_dtype*)"
   ]
  },
  {
   "cell_type": "markdown",
   "metadata": {},
   "source": [
    "### Train the model.\n",
    "\n",
    "Now that you've seen how to define a model and do a single forward pass of some data through it, let's  walk through how you'd actually train one whole epoch over your training data (using the simple_model we provided above).\n",
    "\n",
    "Make sure you understand how each PyTorch function used below corresponds to what you implemented in your custom neural network implementation.\n",
    "\n",
    "Note that because we are not resetting the weights anywhere below, if you run the cell multiple times, you are effectively training multiple epochs (so your performance should improve).\n",
    "\n",
    "First, set up an RMSprop optimizer (using a 1e-3 learning rate) and a cross-entropy loss function:"
   ]
  },
  {
   "cell_type": "code",
   "execution_count": 12,
   "metadata": {
    "collapsed": true
   },
   "outputs": [],
   "source": [
    "loss_fn = nn.CrossEntropyLoss().type(gpu_dtype)\n",
    "optimizer = optim.RMSprop(fixed_model_gpu.parameters(), lr=1e-3)"
   ]
  },
  {
   "cell_type": "code",
   "execution_count": 13,
   "metadata": {
    "collapsed": false
   },
   "outputs": [
    {
     "name": "stdout",
     "output_type": "stream",
     "text": [
      "t = 100, loss = 1.4617\n",
      "t = 200, loss = 1.5196\n",
      "t = 300, loss = 1.2898\n",
      "t = 400, loss = 1.2901\n",
      "t = 500, loss = 1.2309\n",
      "t = 600, loss = 1.4841\n",
      "t = 700, loss = 1.3075\n"
     ]
    }
   ],
   "source": [
    "# This sets the model in \"training\" mode. This is relevant for some layers that may have different behavior\n",
    "# in training mode vs testing mode, such as Dropout and BatchNorm. \n",
    "fixed_model_gpu.train()\n",
    "\n",
    "# Load one batch at a time.\n",
    "for t, (x, y) in enumerate(loader_train):\n",
    "    x_var = Variable(x.type(gpu_dtype))\n",
    "    y_var = Variable(y.type(gpu_dtype).long())\n",
    "\n",
    "    # This is the forward pass: predict the scores for each class, for each x in the batch.\n",
    "    scores = fixed_model_gpu(x_var)\n",
    "    \n",
    "    # Use the correct y values and the predicted y values to compute the loss.\n",
    "    loss = loss_fn(scores, y_var)\n",
    "    \n",
    "    if (t + 1) % print_every == 0:\n",
    "        print('t = %d, loss = %.4f' % (t + 1, loss.data[0]))\n",
    "\n",
    "    # Zero out all of the gradients for the variables which the optimizer will update.\n",
    "    optimizer.zero_grad()\n",
    "    \n",
    "    # This is the backwards pass: compute the gradient of the loss with respect to each \n",
    "    # parameter of the model.\n",
    "    loss.backward()\n",
    "    \n",
    "    # Actually update the parameters of the model using the gradients computed by the backwards pass.\n",
    "    optimizer.step()"
   ]
  },
  {
   "cell_type": "markdown",
   "metadata": {},
   "source": [
    "Now you've seen how the training process works in PyTorch. To save you writing boilerplate code, we're providing the following helper functions to help you train for multiple epochs and check the accuracy of your model:"
   ]
  },
  {
   "cell_type": "code",
   "execution_count": 30,
   "metadata": {
    "collapsed": true
   },
   "outputs": [],
   "source": [
    "def train(model, loss_fn, optimizer, num_epochs = 1, output=True):\n",
    "    for epoch in range(num_epochs):\n",
    "        if output:\n",
    "            print('Starting epoch %d / %d' % (epoch + 1, num_epochs))\n",
    "        \n",
    "        model.train()\n",
    "        for t, (x, y) in enumerate(loader_train):\n",
    "            x_var = Variable(x.type(gpu_dtype))\n",
    "            y_var = Variable(y.type(gpu_dtype).long())\n",
    "\n",
    "            scores = model(x_var)\n",
    "            \n",
    "            loss = loss_fn(scores, y_var)\n",
    "            if ((t + 1) % print_every == 0) & output:\n",
    "                print('t = %d, loss = %.4f' % (t + 1, loss.data[0]))\n",
    "\n",
    "            optimizer.zero_grad()\n",
    "            loss.backward()\n",
    "            optimizer.step()\n",
    "\n",
    "def check_accuracy(model, loader):\n",
    "    if loader.dataset.train:\n",
    "        print('Checking accuracy on validation set')\n",
    "    else:\n",
    "        print('Checking accuracy on test set')   \n",
    "    num_correct = 0\n",
    "    num_samples = 0\n",
    "    model.eval() # Put the model in test mode (the opposite of model.train(), essentially)\n",
    "    for x, y in loader:\n",
    "        x_var = Variable(x.type(gpu_dtype), volatile=True)\n",
    "\n",
    "        scores = model(x_var)\n",
    "        _, preds = scores.data.cpu().max(1)\n",
    "        num_correct += (preds == y).sum()\n",
    "        num_samples += preds.size(0)\n",
    "    acc = float(num_correct) / num_samples\n",
    "    print('Got %d / %d correct (%.2f)' % (num_correct, num_samples, 100 * acc))"
   ]
  },
  {
   "cell_type": "markdown",
   "metadata": {},
   "source": [
    "### Check the accuracy of the model.\n",
    "\n",
    "Let's see the train and check_accuracy code in action -- feel free to use these methods when evaluating the models you develop below.\n",
    "\n",
    "You should get a training loss of around 1.2-1.4, and a validation accuracy of around 50-60%. As mentioned above, if you re-run the cells, you'll be training more epochs, so your performance will improve past these numbers.\n",
    "\n",
    "But don't worry about getting these numbers better -- this was just practice before you tackle designing your own model."
   ]
  },
  {
   "cell_type": "code",
   "execution_count": 15,
   "metadata": {
    "collapsed": false
   },
   "outputs": [
    {
     "name": "stdout",
     "output_type": "stream",
     "text": [
      "Starting epoch 1 / 5\n",
      "t = 100, loss = 1.4425\n",
      "t = 200, loss = 1.4688\n",
      "t = 300, loss = 1.4406\n",
      "t = 400, loss = 1.2421\n",
      "t = 500, loss = 1.2401\n",
      "t = 600, loss = 1.3666\n",
      "t = 700, loss = 1.2138\n",
      "Starting epoch 2 / 5\n",
      "t = 100, loss = 1.0145\n",
      "t = 200, loss = 1.1520\n",
      "t = 300, loss = 1.0571\n",
      "t = 400, loss = 0.9675\n",
      "t = 500, loss = 0.9439\n",
      "t = 600, loss = 1.0807\n",
      "t = 700, loss = 0.8311\n",
      "Starting epoch 3 / 5\n",
      "t = 100, loss = 0.7815\n",
      "t = 200, loss = 0.7167\n",
      "t = 300, loss = 0.7284\n",
      "t = 400, loss = 0.6402\n",
      "t = 500, loss = 0.7193\n",
      "t = 600, loss = 0.5412\n",
      "t = 700, loss = 0.5433\n",
      "Starting epoch 4 / 5\n",
      "t = 100, loss = 0.4419\n",
      "t = 200, loss = 0.3236\n",
      "t = 300, loss = 0.3328\n",
      "t = 400, loss = 0.3846\n",
      "t = 500, loss = 0.4918\n",
      "t = 600, loss = 0.2429\n",
      "t = 700, loss = 0.1698\n",
      "Starting epoch 5 / 5\n",
      "t = 100, loss = 0.3257\n",
      "t = 200, loss = 0.1786\n",
      "t = 300, loss = 0.2551\n",
      "t = 400, loss = 0.1737\n",
      "t = 500, loss = 0.2062\n",
      "t = 600, loss = 0.2454\n",
      "t = 700, loss = 0.1753\n",
      "Checking accuracy on validation set\n",
      "Got 498 / 1000 correct (49.80)\n"
     ]
    }
   ],
   "source": [
    "torch.cuda.random.manual_seed(12345)\n",
    "fixed_model_gpu.apply(reset)\n",
    "train(fixed_model_gpu, loss_fn, optimizer, num_epochs=5)\n",
    "check_accuracy(fixed_model_gpu, loader_val)"
   ]
  },
  {
   "cell_type": "markdown",
   "metadata": {},
   "source": [
    "### Don't forget the validation set!\n",
    "\n",
    "And note that you can use the check_accuracy function to evaluate on either the test set or the validation set, by passing either **loader_test** or **loader_val** as the second argument to check_accuracy. You should not touch the test set until you have finished your architecture and hyperparameter tuning, and only run the test set once at the end to report a final value. "
   ]
  },
  {
   "cell_type": "markdown",
   "metadata": {},
   "source": [
    "## Train a _great_ model on CIFAR-10!\n",
    "\n",
    "Now it's your job to experiment with architectures, hyperparameters, loss functions, and optimizers to train a model that achieves **>=70%** accuracy on the CIFAR-10 **validation** set. You can use the check_accuracy and train functions from above."
   ]
  },
  {
   "cell_type": "markdown",
   "metadata": {},
   "source": [
    "### Things you should try:\n",
    "- **Filter size**: Above we used 7x7; this makes pretty pictures but smaller filters may be more efficient\n",
    "- **Number of filters**: Above we used 32 filters. Do more or fewer do better?\n",
    "- **Pooling vs Strided Convolution**: Do you use max pooling or just stride convolutions?\n",
    "- **Batch normalization**: Try adding spatial batch normalization after convolution layers and vanilla batch normalization after affine layers. Do your networks train faster?\n",
    "- **Network architecture**: The network above has two layers of trainable parameters. Can you do better with a deep network? Good architectures to try include:\n",
    "    - [conv-relu-pool]xN -> [affine]xM -> [softmax or SVM]\n",
    "    - [conv-relu-conv-relu-pool]xN -> [affine]xM -> [softmax or SVM]\n",
    "    - [batchnorm-relu-conv]xN -> [affine]xM -> [softmax or SVM]\n",
    "- **Global Average Pooling**: Instead of flattening and then having multiple affine layers, perform convolutions until your image gets small (7x7 or so) and then perform an average pooling operation to get to a 1x1 image picture (1, 1 , Filter#), which is then reshaped into a (Filter#) vector. This is used in [Google's Inception Network](https://arxiv.org/abs/1512.00567) (See Table 1 for their architecture).\n",
    "- **Regularization**: Add l2 weight regularization, or perhaps use Dropout.\n",
    "\n",
    "### Tips for training\n",
    "For each network architecture that you try, you should tune the learning rate and regularization strength. When doing this there are a couple important things to keep in mind:\n",
    "\n",
    "- If the parameters are working well, you should see improvement within a few hundred iterations\n",
    "- Remember the coarse-to-fine approach for hyperparameter tuning: start by testing a large range of hyperparameters for just a few training iterations to find the combinations of parameters that are working at all.\n",
    "- Once you have found some sets of parameters that seem to work, search more finely around these parameters. You may need to train for more epochs.\n",
    "- You should use the validation set for hyperparameter search, and save your test set for evaluating your architecture on the best parameters as selected by the validation set.\n",
    "\n",
    "### Going above and beyond\n",
    "If you are feeling adventurous there are many other features you can implement to try and improve your performance. You are **not required** to implement any of these; however they would be good things to try for extra credit.\n",
    "\n",
    "- Alternative update steps: For the assignment we implemented SGD+momentum, RMSprop, and Adam; you could try alternatives like AdaGrad or AdaDelta.\n",
    "- Alternative activation functions such as leaky ReLU, parametric ReLU, ELU, or MaxOut.\n",
    "- Model ensembles\n",
    "- Data augmentation\n",
    "- New Architectures\n",
    "  - [ResNets](https://arxiv.org/abs/1512.03385) where the input from the previous layer is added to the output.\n",
    "  - [DenseNets](https://arxiv.org/abs/1608.06993) where inputs into previous layers are concatenated together.\n",
    "  - [This blog has an in-depth overview](https://chatbotslife.com/resnets-highwaynets-and-densenets-oh-my-9bb15918ee32)\n",
    "\n",
    "If you do decide to implement something extra, clearly describe it in the \"Extra Credit Description\" cell below.\n",
    "\n",
    "### What we expect\n",
    "At the very least, you should be able to train a ConvNet that gets at least 70% accuracy on the validation set. This is just a lower bound - if you are careful it should be possible to get accuracies much higher than that! Extra credit points will be awarded for particularly high-scoring models or unique approaches.\n",
    "\n",
    "You should use the space below to experiment and train your network. \n",
    "\n",
    "Have fun and happy training!"
   ]
  },
  {
   "cell_type": "code",
   "execution_count": 17,
   "metadata": {
    "collapsed": false
   },
   "outputs": [],
   "source": [
    "# Train your model here, and make sure the output of this cell is the accuracy of your best model on the \n",
    "# train, val, and test sets. Here's some code to get you started. The output of this cell should be the training\n",
    "# and validation accuracy on your best model (measured by validation accuracy).\n",
    "\n",
    "# 3 Conv layers with ReLU, MaxPool, and BatchNorm + 2 FC layers with dropout + Softmax classifier\n",
    "\n",
    "# Input\n",
    "input_size = 32\n",
    "input_channel = 3\n",
    "\n",
    "# 1st Conv\n",
    "num_f_1 = 32\n",
    "size_f_1 = 5\n",
    "\n",
    "# 2nd Conv\n",
    "num_f_2 = 128\n",
    "size_f_2 = 3\n",
    "\n",
    "# 3rd Conv\n",
    "num_f_3 = 512\n",
    "size_f_3 = 3\n",
    "\n",
    "# 1st FC\n",
    "input_fc1 = int(num_f_3 * ((((input_size - size_f_1 + 1) / 2 - size_f_2 + 1) / 2 - size_f_3 + 1) / 2)**2)\n",
    "fc1 = 1024\n",
    "\n",
    "# 2nd FC\n",
    "num_classes = 10\n",
    "\n",
    "dhy_3_layer_model_base = nn.Sequential(\n",
    "    \n",
    "    # 1st Conv\n",
    "    nn.Conv2d(input_channel, num_f_1, kernel_size=size_f_1),\n",
    "    nn.ReLU(inplace=True),\n",
    "    nn.MaxPool2d(2),\n",
    "    nn.BatchNorm2d(num_f_1),\n",
    "    \n",
    "    # 2nd Conv\n",
    "    nn.Conv2d(num_f_1, num_f_2, kernel_size=size_f_2),\n",
    "    nn.ReLU(inplace=True),\n",
    "    nn.MaxPool2d(2),\n",
    "    nn.BatchNorm2d(num_f_2),\n",
    "    \n",
    "    # 3rd Conv\n",
    "    nn.Conv2d(num_f_2, num_f_3, kernel_size=size_f_3),\n",
    "    nn.ReLU(inplace=True),\n",
    "    nn.MaxPool2d(2),\n",
    "    nn.BatchNorm2d(num_f_3),\n",
    "    \n",
    "    Flatten(),\n",
    "    \n",
    "    # 1st FC\n",
    "    nn.Linear(input_fc1, fc1),\n",
    "    nn.ReLU(inplace=True),\n",
    "    nn.BatchNorm1d(fc1),\n",
    "    nn.Dropout(inplace=True),\n",
    "    \n",
    "    # 2nd FC\n",
    "    nn.Linear(fc1, num_classes)\n",
    ")\n",
    "\n",
    "model = dhy_3_layer_model_base.type(gpu_dtype)\n",
    "loss_fn = nn.CrossEntropyLoss().type(gpu_dtype)\n",
    "optimizer = optim.Adam(model.parameters(), lr=1e-3, weight_decay=1e-2)"
   ]
  },
  {
   "cell_type": "code",
   "execution_count": 25,
   "metadata": {
    "collapsed": false
   },
   "outputs": [
    {
     "data": {
      "text/plain": [
       "Sequential(\n",
       "  (0): Conv2d (3, 32, kernel_size=(5, 5), stride=(1, 1))\n",
       "  (1): ReLU(inplace)\n",
       "  (2): MaxPool2d(kernel_size=(2, 2), stride=(2, 2), dilation=(1, 1))\n",
       "  (3): BatchNorm2d(32, eps=1e-05, momentum=0.1, affine=True)\n",
       "  (4): Conv2d (32, 128, kernel_size=(3, 3), stride=(1, 1))\n",
       "  (5): ReLU(inplace)\n",
       "  (6): MaxPool2d(kernel_size=(2, 2), stride=(2, 2), dilation=(1, 1))\n",
       "  (7): BatchNorm2d(128, eps=1e-05, momentum=0.1, affine=True)\n",
       "  (8): Conv2d (128, 512, kernel_size=(3, 3), stride=(1, 1))\n",
       "  (9): ReLU(inplace)\n",
       "  (10): MaxPool2d(kernel_size=(2, 2), stride=(2, 2), dilation=(1, 1))\n",
       "  (11): BatchNorm2d(512, eps=1e-05, momentum=0.1, affine=True)\n",
       "  (12): Flatten(\n",
       "  )\n",
       "  (13): Linear(in_features=2048, out_features=1024)\n",
       "  (14): ReLU(inplace)\n",
       "  (15): BatchNorm1d(1024, eps=1e-05, momentum=0.1, affine=True)\n",
       "  (16): Dropout(p=0.5, inplace)\n",
       "  (17): Linear(in_features=1024, out_features=10)\n",
       ")"
      ]
     },
     "execution_count": 25,
     "metadata": {},
     "output_type": "execute_result"
    }
   ],
   "source": [
    "model.apply(reset)"
   ]
  },
  {
   "cell_type": "code",
   "execution_count": 31,
   "metadata": {
    "collapsed": false,
    "scrolled": false
   },
   "outputs": [
    {
     "name": "stdout",
     "output_type": "stream",
     "text": [
      "learning rate: 1.3613e-06, weight decay: 9.5393e-05\n",
      "Checking accuracy on validation set\n",
      "Got 520 / 1000 correct (52.00)\n",
      "learning rate: 1.3183e-06, weight decay: 6.7917e-04\n",
      "Checking accuracy on validation set\n",
      "Got 558 / 1000 correct (55.80)\n",
      "learning rate: 3.0580e-06, weight decay: 1.9163e-02\n",
      "Checking accuracy on validation set\n",
      "Got 567 / 1000 correct (56.70)\n",
      "learning rate: 5.3863e-04, weight decay: 9.3453e-02\n",
      "Checking accuracy on validation set\n",
      "Got 485 / 1000 correct (48.50)\n",
      "learning rate: 1.1044e-05, weight decay: 1.2989e-02\n",
      "Checking accuracy on validation set\n",
      "Got 593 / 1000 correct (59.30)\n",
      "learning rate: 2.1361e-03, weight decay: 1.1808e-03\n",
      "Checking accuracy on validation set\n",
      "Got 568 / 1000 correct (56.80)\n",
      "learning rate: 3.4090e-05, weight decay: 7.6333e-03\n",
      "Checking accuracy on validation set\n",
      "Got 584 / 1000 correct (58.40)\n",
      "learning rate: 8.0174e-05, weight decay: 8.9648e-03\n",
      "Checking accuracy on validation set\n",
      "Got 503 / 1000 correct (50.30)\n",
      "learning rate: 6.4881e-04, weight decay: 1.2721e-05\n",
      "Checking accuracy on validation set\n",
      "Got 596 / 1000 correct (59.60)\n",
      "learning rate: 1.7039e-03, weight decay: 2.7975e-04\n",
      "Checking accuracy on validation set\n",
      "Got 559 / 1000 correct (55.90)\n",
      "learning rate: 6.4368e-04, weight decay: 1.1867e-03\n",
      "Checking accuracy on validation set\n",
      "Got 579 / 1000 correct (57.90)\n",
      "learning rate: 4.7077e-04, weight decay: 7.0692e-05\n",
      "Checking accuracy on validation set\n",
      "Got 555 / 1000 correct (55.50)\n",
      "learning rate: 4.6546e-06, weight decay: 2.9296e-02\n",
      "Checking accuracy on validation set\n",
      "Got 579 / 1000 correct (57.90)\n",
      "learning rate: 5.9155e-05, weight decay: 1.2020e-05\n",
      "Checking accuracy on validation set\n",
      "Got 504 / 1000 correct (50.40)\n",
      "learning rate: 7.1813e-06, weight decay: 1.5319e-04\n",
      "Checking accuracy on validation set\n",
      "Got 543 / 1000 correct (54.30)\n",
      "learning rate: 2.0326e-06, weight decay: 4.6149e-05\n",
      "Checking accuracy on validation set\n",
      "Got 588 / 1000 correct (58.80)\n",
      "learning rate: 5.4940e-06, weight decay: 7.0722e-02\n",
      "Checking accuracy on validation set\n",
      "Got 598 / 1000 correct (59.80)\n",
      "learning rate: 1.4032e-04, weight decay: 3.9028e-04\n",
      "Checking accuracy on validation set\n",
      "Got 441 / 1000 correct (44.10)\n",
      "learning rate: 1.0024e-06, weight decay: 1.3822e-02\n",
      "Checking accuracy on validation set\n",
      "Got 576 / 1000 correct (57.60)\n",
      "learning rate: 1.0212e-04, weight decay: 3.2440e-02\n",
      "Checking accuracy on validation set\n",
      "Got 533 / 1000 correct (53.30)\n",
      "learning rate: 4.6067e-06, weight decay: 8.4692e-04\n",
      "Checking accuracy on validation set\n",
      "Got 502 / 1000 correct (50.20)\n",
      "learning rate: 5.6227e-05, weight decay: 2.1187e-03\n",
      "Checking accuracy on validation set\n",
      "Got 442 / 1000 correct (44.20)\n",
      "learning rate: 1.1126e-03, weight decay: 6.1804e-02\n",
      "Checking accuracy on validation set\n",
      "Got 557 / 1000 correct (55.70)\n",
      "learning rate: 1.7050e-04, weight decay: 1.3955e-04\n",
      "Checking accuracy on validation set\n",
      "Got 480 / 1000 correct (48.00)\n",
      "learning rate: 1.4473e-06, weight decay: 8.3352e-05\n",
      "Checking accuracy on validation set\n",
      "Got 552 / 1000 correct (55.20)\n",
      "learning rate: 6.2737e-05, weight decay: 4.5484e-04\n",
      "Checking accuracy on validation set\n",
      "Got 474 / 1000 correct (47.40)\n",
      "learning rate: 2.5706e-04, weight decay: 1.9736e-03\n",
      "Checking accuracy on validation set\n",
      "Got 565 / 1000 correct (56.50)\n",
      "learning rate: 8.2050e-04, weight decay: 3.2166e-03\n",
      "Checking accuracy on validation set\n",
      "Got 472 / 1000 correct (47.20)\n",
      "learning rate: 6.8104e-04, weight decay: 7.1428e-05\n",
      "Checking accuracy on validation set\n",
      "Got 535 / 1000 correct (53.50)\n",
      "learning rate: 1.1180e-04, weight decay: 5.3774e-02\n",
      "Checking accuracy on validation set\n",
      "Got 550 / 1000 correct (55.00)\n",
      "learning rate: 1.8452e-04, weight decay: 7.9007e-04\n",
      "Checking accuracy on validation set\n",
      "Got 617 / 1000 correct (61.70)\n",
      "learning rate: 9.7395e-05, weight decay: 8.8244e-03\n",
      "Checking accuracy on validation set\n",
      "Got 525 / 1000 correct (52.50)\n",
      "learning rate: 1.4085e-04, weight decay: 8.3063e-04\n",
      "Checking accuracy on validation set\n",
      "Got 576 / 1000 correct (57.60)\n",
      "learning rate: 1.4384e-06, weight decay: 1.6687e-05\n",
      "Checking accuracy on validation set\n",
      "Got 506 / 1000 correct (50.60)\n",
      "learning rate: 1.0610e-06, weight decay: 7.8069e-05\n",
      "Checking accuracy on validation set\n",
      "Got 535 / 1000 correct (53.50)\n",
      "learning rate: 2.8977e-04, weight decay: 1.5436e-03\n",
      "Checking accuracy on validation set\n",
      "Got 560 / 1000 correct (56.00)\n",
      "learning rate: 2.2678e-03, weight decay: 1.4627e-05\n",
      "Checking accuracy on validation set\n",
      "Got 570 / 1000 correct (57.00)\n",
      "learning rate: 1.2134e-05, weight decay: 8.9787e-05\n",
      "Checking accuracy on validation set\n",
      "Got 554 / 1000 correct (55.40)\n",
      "learning rate: 5.1515e-06, weight decay: 1.7541e-03\n",
      "Checking accuracy on validation set\n",
      "Got 582 / 1000 correct (58.20)\n",
      "learning rate: 1.9142e-03, weight decay: 1.0662e-05\n",
      "Checking accuracy on validation set\n",
      "Got 578 / 1000 correct (57.80)\n",
      "learning rate: 5.7836e-05, weight decay: 1.3045e-04\n",
      "Checking accuracy on validation set\n",
      "Got 567 / 1000 correct (56.70)\n",
      "learning rate: 1.3996e-04, weight decay: 9.2481e-02\n",
      "Checking accuracy on validation set\n",
      "Got 496 / 1000 correct (49.60)\n",
      "learning rate: 1.1197e-05, weight decay: 2.0031e-03\n",
      "Checking accuracy on validation set\n",
      "Got 520 / 1000 correct (52.00)\n",
      "learning rate: 1.2227e-05, weight decay: 1.8880e-03\n",
      "Checking accuracy on validation set\n",
      "Got 587 / 1000 correct (58.70)\n",
      "learning rate: 7.1297e-05, weight decay: 2.7673e-04\n",
      "Checking accuracy on validation set\n",
      "Got 529 / 1000 correct (52.90)\n",
      "learning rate: 5.9256e-05, weight decay: 1.7522e-05\n",
      "Checking accuracy on validation set\n",
      "Got 528 / 1000 correct (52.80)\n",
      "learning rate: 2.7785e-05, weight decay: 8.3934e-04\n",
      "Checking accuracy on validation set\n",
      "Got 567 / 1000 correct (56.70)\n",
      "learning rate: 1.2023e-06, weight decay: 1.5499e-04\n",
      "Checking accuracy on validation set\n",
      "Got 561 / 1000 correct (56.10)\n",
      "learning rate: 3.4281e-06, weight decay: 6.8760e-04\n",
      "Checking accuracy on validation set\n",
      "Got 468 / 1000 correct (46.80)\n",
      "learning rate: 4.0796e-06, weight decay: 9.7838e-04\n",
      "Checking accuracy on validation set\n",
      "Got 620 / 1000 correct (62.00)\n",
      "learning rate: 6.0319e-05, weight decay: 3.0231e-05\n",
      "Checking accuracy on validation set\n",
      "Got 551 / 1000 correct (55.10)\n",
      "learning rate: 2.3029e-03, weight decay: 3.8234e-04\n",
      "Checking accuracy on validation set\n",
      "Got 586 / 1000 correct (58.60)\n",
      "learning rate: 2.0277e-04, weight decay: 2.1721e-03\n",
      "Checking accuracy on validation set\n",
      "Got 463 / 1000 correct (46.30)\n",
      "learning rate: 1.0785e-04, weight decay: 2.1357e-03\n",
      "Checking accuracy on validation set\n",
      "Got 443 / 1000 correct (44.30)\n",
      "learning rate: 6.9894e-04, weight decay: 1.1164e-05\n",
      "Checking accuracy on validation set\n",
      "Got 524 / 1000 correct (52.40)\n",
      "learning rate: 8.1876e-04, weight decay: 9.8857e-03\n",
      "Checking accuracy on validation set\n",
      "Got 502 / 1000 correct (50.20)\n",
      "learning rate: 2.0640e-05, weight decay: 1.1134e-02\n",
      "Checking accuracy on validation set\n",
      "Got 491 / 1000 correct (49.10)\n",
      "learning rate: 2.2729e-05, weight decay: 1.7014e-05\n",
      "Checking accuracy on validation set\n",
      "Got 603 / 1000 correct (60.30)\n",
      "learning rate: 6.8445e-04, weight decay: 2.9867e-04\n",
      "Checking accuracy on validation set\n",
      "Got 520 / 1000 correct (52.00)\n",
      "learning rate: 3.9647e-06, weight decay: 4.3415e-02\n",
      "Checking accuracy on validation set\n",
      "Got 611 / 1000 correct (61.10)\n",
      "learning rate: 6.7078e-05, weight decay: 1.7062e-05\n",
      "Checking accuracy on validation set\n",
      "Got 472 / 1000 correct (47.20)\n",
      "learning rate: 1.3070e-06, weight decay: 4.6791e-03\n",
      "Checking accuracy on validation set\n",
      "Got 569 / 1000 correct (56.90)\n",
      "learning rate: 1.0904e-03, weight decay: 3.6269e-02\n",
      "Checking accuracy on validation set\n",
      "Got 562 / 1000 correct (56.20)\n",
      "learning rate: 7.5394e-05, weight decay: 1.6396e-05\n",
      "Checking accuracy on validation set\n",
      "Got 511 / 1000 correct (51.10)\n",
      "learning rate: 4.8313e-05, weight decay: 1.4044e-03\n",
      "Checking accuracy on validation set\n",
      "Got 431 / 1000 correct (43.10)\n",
      "learning rate: 6.3007e-06, weight decay: 1.3821e-04\n",
      "Checking accuracy on validation set\n",
      "Got 593 / 1000 correct (59.30)\n",
      "learning rate: 2.4537e-04, weight decay: 5.5717e-05\n",
      "Checking accuracy on validation set\n",
      "Got 543 / 1000 correct (54.30)\n",
      "learning rate: 1.0051e-04, weight decay: 3.6355e-03\n",
      "Checking accuracy on validation set\n",
      "Got 475 / 1000 correct (47.50)\n",
      "learning rate: 4.6138e-04, weight decay: 1.3943e-02\n",
      "Checking accuracy on validation set\n",
      "Got 525 / 1000 correct (52.50)\n",
      "learning rate: 2.1990e-03, weight decay: 9.0970e-03\n",
      "Checking accuracy on validation set\n",
      "Got 559 / 1000 correct (55.90)\n",
      "learning rate: 1.1555e-03, weight decay: 3.3080e-04\n",
      "Checking accuracy on validation set\n",
      "Got 542 / 1000 correct (54.20)\n",
      "learning rate: 2.6060e-05, weight decay: 2.7666e-05\n",
      "Checking accuracy on validation set\n",
      "Got 457 / 1000 correct (45.70)\n",
      "learning rate: 1.2118e-05, weight decay: 7.9834e-05\n",
      "Checking accuracy on validation set\n",
      "Got 482 / 1000 correct (48.20)\n",
      "learning rate: 2.2577e-06, weight decay: 1.8241e-03\n",
      "Checking accuracy on validation set\n",
      "Got 492 / 1000 correct (49.20)\n",
      "learning rate: 4.9118e-05, weight decay: 8.1977e-05\n",
      "Checking accuracy on validation set\n",
      "Got 504 / 1000 correct (50.40)\n",
      "learning rate: 2.9847e-04, weight decay: 1.3581e-05\n",
      "Checking accuracy on validation set\n",
      "Got 549 / 1000 correct (54.90)\n",
      "learning rate: 4.2078e-04, weight decay: 8.3943e-03\n",
      "Checking accuracy on validation set\n",
      "Got 564 / 1000 correct (56.40)\n",
      "learning rate: 4.4210e-05, weight decay: 1.3192e-02\n",
      "Checking accuracy on validation set\n",
      "Got 566 / 1000 correct (56.60)\n",
      "learning rate: 1.0568e-03, weight decay: 1.1929e-02\n",
      "Checking accuracy on validation set\n",
      "Got 473 / 1000 correct (47.30)\n",
      "learning rate: 1.5794e-03, weight decay: 5.5916e-05\n",
      "Checking accuracy on validation set\n",
      "Got 591 / 1000 correct (59.10)\n",
      "learning rate: 2.0312e-06, weight decay: 4.6832e-05\n",
      "Checking accuracy on validation set\n",
      "Got 585 / 1000 correct (58.50)\n",
      "learning rate: 5.1003e-05, weight decay: 2.9411e-03\n",
      "Checking accuracy on validation set\n",
      "Got 526 / 1000 correct (52.60)\n",
      "learning rate: 4.4919e-04, weight decay: 1.6560e-03\n",
      "Checking accuracy on validation set\n",
      "Got 515 / 1000 correct (51.50)\n",
      "learning rate: 5.1296e-04, weight decay: 3.2898e-05\n",
      "Checking accuracy on validation set\n",
      "Got 554 / 1000 correct (55.40)\n",
      "learning rate: 2.5160e-03, weight decay: 4.9105e-03\n",
      "Checking accuracy on validation set\n",
      "Got 596 / 1000 correct (59.60)\n",
      "learning rate: 5.1477e-05, weight decay: 4.4028e-05\n",
      "Checking accuracy on validation set\n",
      "Got 471 / 1000 correct (47.10)\n",
      "learning rate: 1.0242e-06, weight decay: 1.2241e-03\n",
      "Checking accuracy on validation set\n",
      "Got 478 / 1000 correct (47.80)\n",
      "learning rate: 2.5467e-04, weight decay: 2.8351e-04\n",
      "Checking accuracy on validation set\n",
      "Got 628 / 1000 correct (62.80)\n",
      "learning rate: 1.5953e-03, weight decay: 4.5068e-02\n",
      "Checking accuracy on validation set\n",
      "Got 504 / 1000 correct (50.40)\n",
      "learning rate: 2.5316e-06, weight decay: 4.9745e-04\n",
      "Checking accuracy on validation set\n",
      "Got 537 / 1000 correct (53.70)\n",
      "learning rate: 6.8697e-06, weight decay: 1.9617e-04\n",
      "Checking accuracy on validation set\n",
      "Got 553 / 1000 correct (55.30)\n",
      "learning rate: 3.4485e-05, weight decay: 3.6640e-05\n",
      "Checking accuracy on validation set\n",
      "Got 601 / 1000 correct (60.10)\n",
      "learning rate: 9.9764e-04, weight decay: 6.7647e-02\n",
      "Checking accuracy on validation set\n",
      "Got 554 / 1000 correct (55.40)\n",
      "learning rate: 2.4881e-06, weight decay: 4.5700e-05\n",
      "Checking accuracy on validation set\n",
      "Got 474 / 1000 correct (47.40)\n",
      "learning rate: 3.8545e-04, weight decay: 5.9611e-05\n",
      "Checking accuracy on validation set\n",
      "Got 558 / 1000 correct (55.80)\n",
      "learning rate: 1.1648e-04, weight decay: 8.0412e-02\n",
      "Checking accuracy on validation set\n",
      "Got 488 / 1000 correct (48.80)\n",
      "learning rate: 8.9215e-06, weight decay: 2.6763e-02\n",
      "Checking accuracy on validation set\n",
      "Got 449 / 1000 correct (44.90)\n",
      "learning rate: 1.8095e-05, weight decay: 3.0473e-04\n",
      "Checking accuracy on validation set\n",
      "Got 415 / 1000 correct (41.50)\n",
      "learning rate: 2.8712e-03, weight decay: 1.3976e-05\n",
      "Checking accuracy on validation set\n",
      "Got 536 / 1000 correct (53.60)\n",
      "learning rate: 4.6341e-05, weight decay: 2.8098e-04\n",
      "Checking accuracy on validation set\n",
      "Got 621 / 1000 correct (62.10)\n"
     ]
    }
   ],
   "source": [
    "max_count = 100\n",
    "for count in range(max_count):\n",
    "    optimizer.lr = 10**np.random.uniform(-6, -2.5)\n",
    "    optimizer.weight_decay = 10**np.random.uniform(-5, -1)\n",
    "    print('learning rate: %.4e, weight decay: %.4e' % (optimizer.lr, optimizer.weight_decay))\n",
    "    model.apply(reset)\n",
    "    train(model, loss_fn, optimizer, num_epochs=1, output=False)\n",
    "    check_accuracy(model, loader_val)"
   ]
  },
  {
   "cell_type": "code",
   "execution_count": 32,
   "metadata": {
    "collapsed": false
   },
   "outputs": [
    {
     "name": "stdout",
     "output_type": "stream",
     "text": [
      "learning rate: 2.5000e-04, weight decay: 2.8000e-04\n"
     ]
    },
    {
     "data": {
      "text/plain": [
       "Sequential(\n",
       "  (0): Conv2d (3, 32, kernel_size=(5, 5), stride=(1, 1))\n",
       "  (1): ReLU(inplace)\n",
       "  (2): MaxPool2d(kernel_size=(2, 2), stride=(2, 2), dilation=(1, 1))\n",
       "  (3): BatchNorm2d(32, eps=1e-05, momentum=0.1, affine=True)\n",
       "  (4): Conv2d (32, 128, kernel_size=(3, 3), stride=(1, 1))\n",
       "  (5): ReLU(inplace)\n",
       "  (6): MaxPool2d(kernel_size=(2, 2), stride=(2, 2), dilation=(1, 1))\n",
       "  (7): BatchNorm2d(128, eps=1e-05, momentum=0.1, affine=True)\n",
       "  (8): Conv2d (128, 512, kernel_size=(3, 3), stride=(1, 1))\n",
       "  (9): ReLU(inplace)\n",
       "  (10): MaxPool2d(kernel_size=(2, 2), stride=(2, 2), dilation=(1, 1))\n",
       "  (11): BatchNorm2d(512, eps=1e-05, momentum=0.1, affine=True)\n",
       "  (12): Flatten(\n",
       "  )\n",
       "  (13): Linear(in_features=2048, out_features=1024)\n",
       "  (14): ReLU(inplace)\n",
       "  (15): BatchNorm1d(1024, eps=1e-05, momentum=0.1, affine=True)\n",
       "  (16): Dropout(p=0.5, inplace)\n",
       "  (17): Linear(in_features=1024, out_features=10)\n",
       ")"
      ]
     },
     "execution_count": 32,
     "metadata": {},
     "output_type": "execute_result"
    }
   ],
   "source": [
    "optimizer.lr = 2.5e-4\n",
    "optimizer.weight_decay = 2.8e-4\n",
    "print('learning rate: %.4e, weight decay: %.4e' % (optimizer.lr, optimizer.weight_decay))\n",
    "model.apply(reset)"
   ]
  },
  {
   "cell_type": "code",
   "execution_count": 39,
   "metadata": {
    "collapsed": false
   },
   "outputs": [
    {
     "name": "stdout",
     "output_type": "stream",
     "text": [
      "Starting epoch 1 / 5\n",
      "t = 100, loss = 0.7968\n",
      "t = 200, loss = 0.8413\n",
      "t = 300, loss = 0.7909\n",
      "t = 400, loss = 0.6522\n",
      "t = 500, loss = 0.6669\n",
      "t = 600, loss = 0.5409\n",
      "t = 700, loss = 0.9160\n",
      "Starting epoch 2 / 5\n",
      "t = 100, loss = 0.6519\n",
      "t = 200, loss = 0.8410\n",
      "t = 300, loss = 0.6783\n",
      "t = 400, loss = 0.6522\n",
      "t = 500, loss = 0.6693\n",
      "t = 600, loss = 0.5700\n",
      "t = 700, loss = 0.7546\n",
      "Starting epoch 3 / 5\n",
      "t = 100, loss = 0.6203\n",
      "t = 200, loss = 0.8620\n",
      "t = 300, loss = 0.7942\n",
      "t = 400, loss = 0.6150\n",
      "t = 500, loss = 0.6037\n",
      "t = 600, loss = 0.5572\n",
      "t = 700, loss = 0.8437\n",
      "Starting epoch 4 / 5\n",
      "t = 100, loss = 0.6230\n",
      "t = 200, loss = 0.8508\n",
      "t = 300, loss = 0.7266\n",
      "t = 400, loss = 0.6781\n",
      "t = 500, loss = 0.6653\n",
      "t = 600, loss = 0.6348\n",
      "t = 700, loss = 0.8938\n",
      "Starting epoch 5 / 5\n",
      "t = 100, loss = 0.6157\n",
      "t = 200, loss = 0.9249\n",
      "t = 300, loss = 0.7371\n",
      "t = 400, loss = 0.5808\n",
      "t = 500, loss = 0.6497\n",
      "t = 600, loss = 0.5357\n",
      "t = 700, loss = 0.9340\n",
      "Checking accuracy on validation set\n",
      "Got 654 / 1000 correct (65.40)\n"
     ]
    }
   ],
   "source": [
    "train(model, loss_fn, optimizer, num_epochs=5)\n",
    "check_accuracy(model, loader_val)"
   ]
  },
  {
   "cell_type": "markdown",
   "metadata": {},
   "source": [
    "### Describe what you did \n",
    "\n",
    "In the cell below you should write an explanation of what you did, any additional features that you implemented, and any visualizations or graphs that you make in the process of training and evaluating your network."
   ]
  },
  {
   "cell_type": "markdown",
   "metadata": {},
   "source": [
    "Tell us here!"
   ]
  },
  {
   "cell_type": "markdown",
   "metadata": {},
   "source": [
    "## Test set -- run this only once\n",
    "\n",
    "Now that we've gotten a result we're happy with, we test our final model on the test set (which you should store in best_model).  This would be the score we would achieve on a competition. Think about how this compares to your validation set accuracy."
   ]
  },
  {
   "cell_type": "code",
   "execution_count": null,
   "metadata": {
    "collapsed": true
   },
   "outputs": [],
   "source": [
    "best_model = None\n",
    "check_accuracy(best_model, loader_test)"
   ]
  },
  {
   "cell_type": "markdown",
   "metadata": {},
   "source": [
    "## Going further with PyTorch\n",
    "\n",
    "The next assignment will make heavy use of PyTorch. You might also find it useful for your projects. \n",
    "\n",
    "Here's a nice tutorial by Justin Johnson that shows off some of PyTorch's features, like dynamic graphs and custom NN modules: http://pytorch.org/tutorials/beginner/pytorch_with_examples.html\n",
    "\n",
    "If you're interested in reinforcement learning for your final project, this is a good (more advanced) DQN tutorial in PyTorch: http://pytorch.org/tutorials/intermediate/reinforcement_q_learning.html"
   ]
  }
 ],
 "metadata": {
  "kernelspec": {
   "display_name": "Python 3",
   "language": "python",
   "name": "python3"
  },
  "language_info": {
   "codemirror_mode": {
    "name": "ipython",
    "version": 3
   },
   "file_extension": ".py",
   "mimetype": "text/x-python",
   "name": "python",
   "nbconvert_exporter": "python",
   "pygments_lexer": "ipython3",
   "version": "3.6.4"
  }
 },
 "nbformat": 4,
 "nbformat_minor": 0
}
